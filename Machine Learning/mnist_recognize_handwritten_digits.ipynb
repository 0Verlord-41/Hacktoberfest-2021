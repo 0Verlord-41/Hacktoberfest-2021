{
 "cells": [
  {
   "cell_type": "markdown",
   "metadata": {},
   "source": [
    "# Recognize handwritten digits with advanced training methods\n",
    "----------------------\n",
    "\n",
    "- Tensorflow-GPU Version: 2.2\n",
    "- GPU trained on: RTX 2080 TI 11GB Vram\n",
    "- Tweak the batchsize if your GPU has not enough vram. \n",
    "\n",
    "----------------------\n",
    "1. Import the important librarys\n",
    "2. Load the data\n",
    "3. Normalize the data\n",
    "4. Show a few samples from the dataset\n",
    "5. One-Hot-Encoding\n",
    "6. Split the data into Trainingdata and Testdata\n",
    "7. Expand the dimensions of the data \n",
    "8. Build the model of the neuronal network\n",
    "9. Choose an Optimizer\n",
    "10. Compile the model\n",
    "11. Configure the Callback \"ReduceLROnPlateau\"\n",
    "12. Configure the Callback \"ModelCheckpoint\"\n",
    "13. Setup the ImageDataGenerator for Data Augementation\n",
    "14. Train the model \n",
    "15. Test the model on unknown data "
   ]
  },
  {
   "cell_type": "markdown",
   "metadata": {},
   "source": [
    "## 1. Import the important librarys"
   ]
  },
  {
   "cell_type": "code",
   "execution_count": 1,
   "metadata": {},
   "outputs": [],
   "source": [
    "import datetime\n",
    "import os\n",
    "import matplotlib.image as mpimg\n",
    "import matplotlib.pyplot as plt\n",
    "import numpy as np\n",
    "import pandas as pd\n",
    "\n",
    "import itertools\n",
    "\n",
    "from tensorflow.keras.callbacks import ModelCheckpoint, ReduceLROnPlateau\n",
    "from tensorflow.keras.layers import (Conv2D, Dense, Dropout, Flatten,\n",
    "                          GlobalAveragePooling2D, Input, MaxPool2D)\n",
    "from tensorflow.keras.models import Model, Sequential, load_model\n",
    "from tensorflow.keras.optimizers import Adam, RMSprop\n",
    "from tensorflow.keras.preprocessing.image import ImageDataGenerator\n",
    "from tensorflow.python.keras.utils.np_utils import to_categorical  # convert to one-hot-encoding\n",
    "from sklearn.metrics import confusion_matrix\n",
    "from sklearn.model_selection import train_test_split"
   ]
  },
  {
   "cell_type": "markdown",
   "metadata": {},
   "source": [
    "## 2. Load the data"
   ]
  },
  {
   "cell_type": "code",
   "execution_count": 2,
   "metadata": {},
   "outputs": [],
   "source": [
    "from tensorflow.keras.datasets import mnist\n",
    "(X_train, Y_train), (X_test, Y_test) = mnist.load_data()"
   ]
  },
  {
   "cell_type": "markdown",
   "metadata": {},
   "source": [
    "## 3. Normalize the data"
   ]
  },
  {
   "cell_type": "code",
   "execution_count": 3,
   "metadata": {},
   "outputs": [
    {
     "name": "stdout",
     "output_type": "stream",
     "text": [
      "(60000,) (10000, 28, 28)\n"
     ]
    }
   ],
   "source": [
    "X_train = X_train / 255.0\n",
    "X_test = X_test / 255.0\n",
    "print(Y_train.shape , X_test.shape)"
   ]
  },
  {
   "cell_type": "markdown",
   "metadata": {},
   "source": [
    "## 4. Show a few samples from the dataset"
   ]
  },
  {
   "cell_type": "code",
   "execution_count": 4,
   "metadata": {},
   "outputs": [
    {
     "data": {
      "image/png": "[encoded data removed]",
      "text/plain": [
       "<Figure size 432x288 with 1 Axes>"
      ]
     },
     "metadata": {
      "needs_background": "light"
     },
     "output_type": "display_data"
    }
   ],
   "source": [
    "plt.imshow(X_train[142], interpolation='nearest', cmap=plt.cm.binary)  \n",
    "plt.show()"
   ]
  },
  {
   "cell_type": "code",
   "execution_count": 5,
   "metadata": {},
   "outputs": [
    {
     "data": {
      "image/png": "[encoded data removed]",
      "text/plain": [
       "<Figure size 432x288 with 1 Axes>"
      ]
     },
     "metadata": {
      "needs_background": "light"
     },
     "output_type": "display_data"
    }
   ],
   "source": [
    "plt.imshow(X_test[4354], interpolation='nearest', cmap=plt.cm.binary)\n",
    "plt.show()"
   ]
  },
  {
   "cell_type": "markdown",
   "metadata": {},
   "source": [
    "## 5. One-Hot-Encoding"
   ]
  },
  {
   "cell_type": "code",
   "execution_count": 6,
   "metadata": {},
   "outputs": [],
   "source": [
    "Y_train = to_categorical(Y_train, num_classes=10)\n",
    "Y_test = to_categorical(Y_test, num_classes=10)"
   ]
  },
  {
   "cell_type": "markdown",
   "metadata": {},
   "source": [
    "## 6. Split the data into Trainingdata and Testdata\n"
   ]
  },
  {
   "cell_type": "code",
   "execution_count": 7,
   "metadata": {},
   "outputs": [],
   "source": [
    "random_seed = 234\n",
    "X_train, X_train_val, Y_train, Y_train_val = train_test_split(X_train, Y_train, test_size = 0.1, random_state=random_seed)\n"
   ]
  },
  {
   "cell_type": "markdown",
   "metadata": {},
   "source": [
    "## 7. Expand the dimensions of the data \n"
   ]
  },
  {
   "cell_type": "code",
   "execution_count": 8,
   "metadata": {},
   "outputs": [],
   "source": [
    "# Transform the \n",
    "X_train = np.expand_dims(X_train, axis=-1)\n",
    "X_train_val = np.expand_dims(X_train_val, axis=-1)"
   ]
  },
  {
   "cell_type": "markdown",
   "metadata": {},
   "source": [
    "## 8. Build the model of the neuronal network\n"
   ]
  },
  {
   "cell_type": "code",
   "execution_count": 9,
   "metadata": {},
   "outputs": [],
   "source": [
    "model = Sequential()\n",
    "model.add(Conv2D(filters = 32, kernel_size = (5,5),padding = 'Same', \n",
    "                 activation ='relu', input_shape = (28,28,1)))\n",
    "model.add(Conv2D(filters = 32, kernel_size = (5,5),padding = 'Same', \n",
    "                 activation ='relu'))\n",
    "model.add(MaxPool2D(pool_size=(2,2)))\n",
    "model.add(Dropout(0.35))\n",
    "\n",
    "\n",
    "model.add(Conv2D(filters = 64, kernel_size = (3,3),padding = 'Same', \n",
    "                 activation ='relu'))\n",
    "model.add(Conv2D(filters = 64, kernel_size = (3,3),padding = 'Same', \n",
    "                 activation ='relu'))\n",
    "model.add(Conv2D(filters = 128, kernel_size = (5,5),padding = 'Same', \n",
    "                 activation ='relu'))\n",
    "model.add(MaxPool2D(pool_size=(2,2), strides=(2,2)))\n",
    "model.add(Dropout(0.35))\n",
    "\n",
    "model.add(Conv2D(filters = 128, kernel_size = (5,5),padding = 'Same', \n",
    "                 activation ='relu'))\n",
    "model.add(Flatten())\n",
    "model.add(Dense(256, activation = \"relu\"))\n",
    "model.add(Dropout(0.35))\n",
    "\n",
    "model.add(Dense(10, activation = \"softmax\"))"
   ]
  },
  {
   "cell_type": "markdown",
   "metadata": {},
   "source": [
    "## 9. Choose an Optimizer\n"
   ]
  },
  {
   "cell_type": "code",
   "execution_count": 10,
   "metadata": {},
   "outputs": [],
   "source": [
    "optimizer = Adam(lr=0.001)"
   ]
  },
  {
   "cell_type": "markdown",
   "metadata": {},
   "source": [
    "## 10. Compile the model\n"
   ]
  },
  {
   "cell_type": "code",
   "execution_count": 11,
   "metadata": {},
   "outputs": [],
   "source": [
    "model.compile(optimizer=optimizer , loss=\"categorical_crossentropy\", metrics=[\"acc\"])\n"
   ]
  },
  {
   "cell_type": "markdown",
   "metadata": {},
   "source": [
    "## 11. Configure the Callback \"ReduceLROnPlateau\"\n"
   ]
  },
  {
   "cell_type": "code",
   "execution_count": 12,
   "metadata": {},
   "outputs": [],
   "source": [
    "learning_rate_reduction = ReduceLROnPlateau(monitor='val_acc', \n",
    "                                            patience=2, \n",
    "                                            verbose=1, \n",
    "                                            factor=0.7, \n",
    "                                            min_lr=0.00001)"
   ]
  },
  {
   "cell_type": "markdown",
   "metadata": {},
   "source": [
    "## 12. Configure the Callback \"ModelCheckpoint\"\n"
   ]
  },
  {
   "cell_type": "code",
   "execution_count": 13,
   "metadata": {},
   "outputs": [],
   "source": [
    "now = datetime.datetime.now() \n",
    "folder_name = f\"./model/{now.strftime('%H-%M-%S')}\" \n",
    "os.mkdir(folder_name)\n",
    "\n",
    "filepath_check=folder_name+\"/weights-improvement-{epoch:02d}-{val_acc:.6f}.h5\"\n",
    "checkpoint = ModelCheckpoint(\n",
    "    filepath_check,\n",
    "    monitor=\"val_acc\",\n",
    "    verbose=0,\n",
    "    save_best_only=True,\n",
    "    save_weights_only=False,\n",
    "    mode=\"auto\",\n",
    ")\n",
    "filepath_best=folder_name+\"/weights.best.h5\"\n",
    "checkpoint_best = ModelCheckpoint(filepath_best, monitor='val_acc', verbose=0, save_best_only=True, mode='max')\n"
   ]
  },
  {
   "cell_type": "markdown",
   "metadata": {},
   "source": [
    "## 13. Setup the ImageDataGenerator for Data Augementation\n"
   ]
  },
  {
   "cell_type": "code",
   "execution_count": 14,
   "metadata": {},
   "outputs": [],
   "source": [
    "datagen = ImageDataGenerator(\n",
    "        featurewise_center=False,  # set input mean to 0 over the dataset\n",
    "        samplewise_center=False,  # set each sample mean to 0\n",
    "        featurewise_std_normalization=False,  # divide inputs by std of the dataset\n",
    "        samplewise_std_normalization=False,  # divide each input by its std\n",
    "        zca_whitening=False,  # apply ZCA whitening\n",
    "        rotation_range=10,  # randomly rotate images in the range (degrees, 0 to 180)\n",
    "        zoom_range = 0.07, # Randomly zoom image \n",
    "        width_shift_range=0.12,  # randomly shift images horizontally (fraction of total width)\n",
    "        height_shift_range=0.12,  # randomly shift images vertically (fraction of total height)\n",
    "        horizontal_flip=False,  # randomly flip images\n",
    "        vertical_flip=False)  # randomly flip images\n",
    "\n",
    "datagen.fit(X_train)\n",
    "\n",
    "epochs = 30\n",
    "batch_size = 100\n",
    "training = datagen.flow(X_train,Y_train, batch_size=batch_size)"
   ]
  },
  {
   "cell_type": "markdown",
   "metadata": {},
   "source": [
    "## 14. Train the model \n"
   ]
  },
  {
   "cell_type": "code",
   "execution_count": 15,
   "metadata": {},
   "outputs": [
    {
     "name": "stdout",
     "output_type": "stream",
     "text": [
      "Epoch 1/30\n",
      "300/300 [==============================] - 5s 17ms/step - loss: 0.5201 - acc: 0.8262 - val_loss: 0.0755 - val_acc: 0.9783\n",
      "Epoch 2/30\n",
      "300/300 [==============================] - 5s 16ms/step - loss: 0.1181 - acc: 0.9657 - val_loss: 0.0520 - val_acc: 0.9833\n",
      "Epoch 3/30\n",
      "300/300 [==============================] - 5s 16ms/step - loss: 0.0884 - acc: 0.9744 - val_loss: 0.0437 - val_acc: 0.9863\n",
      "Epoch 4/30\n",
      "300/300 [==============================] - 5s 16ms/step - loss: 0.0714 - acc: 0.9798 - val_loss: 0.0378 - val_acc: 0.9888\n",
      "Epoch 5/30\n",
      "300/300 [==============================] - 5s 16ms/step - loss: 0.0620 - acc: 0.9823 - val_loss: 0.0465 - val_acc: 0.9882\n",
      "Epoch 6/30\n",
      "300/300 [==============================] - 5s 16ms/step - loss: 0.0601 - acc: 0.9829 - val_loss: 0.0353 - val_acc: 0.9893\n",
      "Epoch 7/30\n",
      "300/300 [==============================] - 5s 16ms/step - loss: 0.0554 - acc: 0.9847 - val_loss: 0.0363 - val_acc: 0.9907\n",
      "Epoch 8/30\n",
      "300/300 [==============================] - 5s 16ms/step - loss: 0.0484 - acc: 0.9862 - val_loss: 0.0302 - val_acc: 0.9917\n",
      "Epoch 9/30\n",
      "300/300 [==============================] - 5s 16ms/step - loss: 0.0487 - acc: 0.9854 - val_loss: 0.0422 - val_acc: 0.9888\n",
      "Epoch 10/30\n",
      "300/300 [==============================] - 5s 16ms/step - loss: 0.0456 - acc: 0.9875 - val_loss: 0.0286 - val_acc: 0.9930\n",
      "Epoch 11/30\n",
      "300/300 [==============================] - 5s 16ms/step - loss: 0.0451 - acc: 0.9869 - val_loss: 0.0332 - val_acc: 0.9900\n",
      "Epoch 12/30\n",
      "300/300 [==============================] - ETA: 0s - loss: 0.0435 - acc: 0.9872- ETA: 0s - loss: 0.0449 -\n",
      "Epoch 00012: ReduceLROnPlateau reducing learning rate to 0.0007000000332482159.\n",
      "300/300 [==============================] - 5s 16ms/step - loss: 0.0435 - acc: 0.9872 - val_loss: 0.0288 - val_acc: 0.9915\n",
      "Epoch 13/30\n",
      "300/300 [==============================] - 5s 16ms/step - loss: 0.0323 - acc: 0.9902 - val_loss: 0.0230 - val_acc: 0.9938\n",
      "Epoch 14/30\n",
      "300/300 [==============================] - 5s 16ms/step - loss: 0.0305 - acc: 0.9912 - val_loss: 0.0210 - val_acc: 0.9942\n",
      "Epoch 15/30\n",
      "300/300 [==============================] - 5s 16ms/step - loss: 0.0305 - acc: 0.9914 - val_loss: 0.0319 - val_acc: 0.9903\n",
      "Epoch 16/30\n",
      "297/300 [============================>.] - ETA: 0s - loss: 0.0301 - acc: 0.9915\n",
      "Epoch 00016: ReduceLROnPlateau reducing learning rate to 0.0004900000232737511.\n",
      "300/300 [==============================] - 5s 16ms/step - loss: 0.0299 - acc: 0.9916 - val_loss: 0.0282 - val_acc: 0.9925\n",
      "Epoch 17/30\n",
      "300/300 [==============================] - 5s 16ms/step - loss: 0.0230 - acc: 0.9930 - val_loss: 0.0245 - val_acc: 0.9925\n",
      "Epoch 18/30\n",
      "300/300 [==============================] - ETA: 0s - loss: 0.0222 - acc: 0.9931\n",
      "Epoch 00018: ReduceLROnPlateau reducing learning rate to 0.00034300000406801696.\n",
      "300/300 [==============================] - 5s 16ms/step - loss: 0.0222 - acc: 0.9931 - val_loss: 0.0296 - val_acc: 0.9925\n",
      "Epoch 19/30\n",
      "300/300 [==============================] - 5s 16ms/step - loss: 0.0201 - acc: 0.9937 - val_loss: 0.0234 - val_acc: 0.9940\n",
      "Epoch 20/30\n",
      "300/300 [==============================] - 5s 16ms/step - loss: 0.0174 - acc: 0.9945 - val_loss: 0.0217 - val_acc: 0.9943\n",
      "Epoch 21/30\n",
      "300/300 [==============================] - 5s 16ms/step - loss: 0.0193 - acc: 0.9940 - val_loss: 0.0210 - val_acc: 0.9940\n",
      "Epoch 22/30\n",
      "300/300 [==============================] - ETA: 0s - loss: 0.0182 - acc: 0.9946- ETA: 0s - loss: 0.0\n",
      "Epoch 00022: ReduceLROnPlateau reducing learning rate to 0.00024009999469853935.\n",
      "300/300 [==============================] - 5s 16ms/step - loss: 0.0182 - acc: 0.9946 - val_loss: 0.0229 - val_acc: 0.9942\n",
      "Epoch 23/30\n",
      "300/300 [==============================] - 5s 16ms/step - loss: 0.0158 - acc: 0.9952 - val_loss: 0.0233 - val_acc: 0.9942\n",
      "Epoch 24/30\n",
      "300/300 [==============================] - 5s 16ms/step - loss: 0.0163 - acc: 0.9948 - val_loss: 0.0196 - val_acc: 0.9945\n",
      "Epoch 25/30\n",
      "300/300 [==============================] - 5s 16ms/step - loss: 0.0148 - acc: 0.9954 - val_loss: 0.0207 - val_acc: 0.9947\n",
      "Epoch 26/30\n",
      "300/300 [==============================] - 5s 16ms/step - loss: 0.0168 - acc: 0.9951 - val_loss: 0.0220 - val_acc: 0.9938\n",
      "Epoch 27/30\n",
      "300/300 [==============================] - 5s 16ms/step - loss: 0.0126 - acc: 0.9960 - val_loss: 0.0210 - val_acc: 0.9950s - loss: 0.0129 - acc: \n",
      "Epoch 28/30\n",
      "300/300 [==============================] - 5s 16ms/step - loss: 0.0140 - acc: 0.9961 - val_loss: 0.0224 - val_acc: 0.9940\n",
      "Epoch 29/30\n",
      "297/300 [============================>.] - ETA: 0s - loss: 0.0115 - acc: 0.9969\n",
      "Epoch 00029: ReduceLROnPlateau reducing learning rate to 0.00016806999628897755.\n",
      "300/300 [==============================] - 5s 16ms/step - loss: 0.0115 - acc: 0.9969 - val_loss: 0.0215 - val_acc: 0.9940\n",
      "Epoch 30/30\n",
      "300/300 [==============================] - 5s 16ms/step - loss: 0.0125 - acc: 0.9964 - val_loss: 0.0202 - val_acc: 0.9955\n"
     ]
    }
   ],
   "source": [
    "history = model.fit(training, epochs = epochs, validation_data = (X_train_val, Y_train_val),\n",
    "                              verbose = 1, steps_per_epoch=300\n",
    "                              , callbacks=[learning_rate_reduction, checkpoint_best])\n"
   ]
  },
  {
   "cell_type": "markdown",
   "metadata": {},
   "source": [
    "## 15. Test the model on unknown data"
   ]
  },
  {
   "cell_type": "code",
   "execution_count": 21,
   "metadata": {},
   "outputs": [
    {
     "name": "stdout",
     "output_type": "stream",
     "text": [
      "Correct classified handwritten digits (nominal) => 5973\n",
      "Correct classified handwritten digits (relative) => 99.55%\n"
     ]
    }
   ],
   "source": [
    "results = model.predict(X_train_val)\n",
    "count = 0\n",
    "for i, result in enumerate(results):\n",
    "    if np.argmax(result) == np.argmax(Y_train_val[i]): count += 1\n",
    "    \n",
    "print(f\"Correct classified handwritten digits (nominal) => {count}\")\n",
    "print(f\"Correct classified handwritten digits (relative) => {round((count/Y_train_val.shape[0])*100, 2)}%\")"
   ]
  }
 ],
 "metadata": {
  "kernelspec": {
   "display_name": "Python 3",
   "language": "python",
   "name": "python3"
  },
  "language_info": {
   "codemirror_mode": {
    "name": "ipython",
    "version": 3
   },
   "file_extension": ".py",
   "mimetype": "text/x-python",
   "name": "python",
   "nbconvert_exporter": "python",
   "pygments_lexer": "ipython3",
   "version": "3.7.7"
  }
 },
 "nbformat": 4,
 "nbformat_minor": 2
}
