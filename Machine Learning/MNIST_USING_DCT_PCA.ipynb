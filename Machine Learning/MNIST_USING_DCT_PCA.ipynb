{
  "nbformat": 4,
  "nbformat_minor": 0,
  "metadata": {
    "colab": {
      "name": "MNIST-USING-DCT-PCA.ipynb",
      "provenance": []
    },
    "kernelspec": {
      "name": "python3",
      "display_name": "Python 3"
    }
  },
  "cells": [
    {
      "cell_type": "code",
      "metadata": {
        "id": "LsqvDivDkRWr"
      },
      "source": [
        "import numpy as np\n",
        "import matplotlib.pyplot as plt\n",
        "from scipy.fftpack import dct"
      ],
      "execution_count": null,
      "outputs": []
    },
    {
      "cell_type": "code",
      "metadata": {
        "id": "xJoxi7KTkd4g"
      },
      "source": [
        "from sklearn.datasets import fetch_openml\n",
        "mnist = fetch_openml('mnist_784')\n",
        "x = mnist.data\n",
        "y = mnist.target"
      ],
      "execution_count": null,
      "outputs": []
    },
    {
      "cell_type": "code",
      "metadata": {
        "id": "7WawgCnKkkIm"
      },
      "source": [
        "x_dct = np.zeros_like(x)"
      ],
      "execution_count": null,
      "outputs": []
    },
    {
      "cell_type": "code",
      "metadata": {
        "id": "-sA4MXsYko4u"
      },
      "source": [
        "for i in range(70000):\n",
        "  x_dct[i] = dct(x[i])"
      ],
      "execution_count": null,
      "outputs": []
    },
    {
      "cell_type": "code",
      "metadata": {
        "id": "Nx72eQGykpSw",
        "outputId": "ab67ce85-d608-4857-ee21-a6515acdec7c",
        "colab": {
          "base_uri": "https://localhost:8080/",
          "height": 251
        }
      },
      "source": [
        "x_dct"
      ],
      "execution_count": null,
      "outputs": [
        {
          "output_type": "execute_result",
          "data": {
            "text/plain": [
              "array([[ 5.50500000e+04, -2.33856786e+03, -9.87629152e+03, ...,\n",
              "         8.13784855e+02,  3.99674901e+02, -1.16887196e+03],\n",
              "       [ 6.21900000e+04, -1.75510797e+02, -2.23740022e+04, ...,\n",
              "        -2.36002556e+03, -8.16777272e+02,  1.06922122e+03],\n",
              "       [ 3.88860000e+04, -2.10558690e+03, -2.30398681e+04, ...,\n",
              "        -3.78226531e+02,  2.93412310e+02, -3.95254223e+02],\n",
              "       ...,\n",
              "       [ 5.84620000e+04, -4.91036975e+03, -3.04343979e+04, ...,\n",
              "         9.51357225e+02,  2.28288492e+02, -6.63565783e+02],\n",
              "       [ 5.31180000e+04, -4.59141455e+03, -3.09120163e+04, ...,\n",
              "        -3.65311578e+02, -4.55644103e+02,  1.12143843e+03],\n",
              "       [ 8.36660000e+04, -2.77540952e+03, -3.64578957e+04, ...,\n",
              "         3.55879068e+01, -3.18536626e+01, -1.20255602e+02]])"
            ]
          },
          "metadata": {
            "tags": []
          },
          "execution_count": 5
        }
      ]
    },
    {
      "cell_type": "code",
      "metadata": {
        "id": "58cHpfIkkpVm"
      },
      "source": [
        "from sklearn.model_selection import train_test_split\n",
        "train_img, test_img, train_lbl, test_lbl = train_test_split( x_dct, mnist.target, test_size=1/7.0, random_state=0)"
      ],
      "execution_count": null,
      "outputs": []
    },
    {
      "cell_type": "code",
      "metadata": {
        "id": "KBfojBjBkpYc"
      },
      "source": [
        "from sklearn.preprocessing import StandardScaler\n",
        "scaler = StandardScaler()"
      ],
      "execution_count": null,
      "outputs": []
    },
    {
      "cell_type": "code",
      "metadata": {
        "id": "kuyWz7b_kpbb",
        "outputId": "ea43ae57-5a2f-4221-ad1e-d3907f7a1782",
        "colab": {
          "base_uri": "https://localhost:8080/",
          "height": 35
        }
      },
      "source": [
        "scaler.fit(train_img)"
      ],
      "execution_count": null,
      "outputs": [
        {
          "output_type": "execute_result",
          "data": {
            "text/plain": [
              "StandardScaler(copy=True, with_mean=True, with_std=True)"
            ]
          },
          "metadata": {
            "tags": []
          },
          "execution_count": 8
        }
      ]
    },
    {
      "cell_type": "code",
      "metadata": {
        "id": "vED_uPLHkpes"
      },
      "source": [
        "train_img = scaler.transform(train_img)\n",
        "test_img = scaler.transform(test_img)"
      ],
      "execution_count": null,
      "outputs": []
    },
    {
      "cell_type": "code",
      "metadata": {
        "id": "9gsE-aUxkphb"
      },
      "source": [
        "from sklearn.decomposition import PCA"
      ],
      "execution_count": null,
      "outputs": []
    },
    {
      "cell_type": "code",
      "metadata": {
        "id": "TmWdH5HIkpnr"
      },
      "source": [
        "\n",
        "pca = PCA(.95)"
      ],
      "execution_count": null,
      "outputs": []
    },
    {
      "cell_type": "code",
      "metadata": {
        "id": "M0GJArEqkpuA",
        "outputId": "82344cf1-03c0-4fc2-a609-25cb7d35937c",
        "colab": {
          "base_uri": "https://localhost:8080/",
          "height": 53
        }
      },
      "source": [
        "pca.fit(train_img)"
      ],
      "execution_count": null,
      "outputs": [
        {
          "output_type": "execute_result",
          "data": {
            "text/plain": [
              "PCA(copy=True, iterated_power='auto', n_components=0.95, random_state=None,\n",
              "    svd_solver='auto', tol=0.0, whiten=False)"
            ]
          },
          "metadata": {
            "tags": []
          },
          "execution_count": 13
        }
      ]
    },
    {
      "cell_type": "code",
      "metadata": {
        "id": "T7ry7X6NkplO"
      },
      "source": [
        "train_img = pca.transform(train_img)\n",
        "test_img = pca.transform(test_img)"
      ],
      "execution_count": null,
      "outputs": []
    },
    {
      "cell_type": "code",
      "metadata": {
        "id": "FJZc74LwlL2i"
      },
      "source": [
        "from sklearn.svm import SVC"
      ],
      "execution_count": null,
      "outputs": []
    },
    {
      "cell_type": "code",
      "metadata": {
        "id": "Y1GbCuGGlPHY"
      },
      "source": [
        "svc_model=SVC()"
      ],
      "execution_count": null,
      "outputs": []
    },
    {
      "cell_type": "code",
      "metadata": {
        "id": "h40nprZJlPRF",
        "outputId": "215c1d40-bbc1-4be4-8a82-931ff55cdce8",
        "colab": {
          "base_uri": "https://localhost:8080/",
          "height": 89
        }
      },
      "source": [
        "svc_model.fit(train_img, train_lbl)"
      ],
      "execution_count": null,
      "outputs": [
        {
          "output_type": "execute_result",
          "data": {
            "text/plain": [
              "SVC(C=1.0, break_ties=False, cache_size=200, class_weight=None, coef0=0.0,\n",
              "    decision_function_shape='ovr', degree=3, gamma='scale', kernel='rbf',\n",
              "    max_iter=-1, probability=False, random_state=None, shrinking=True,\n",
              "    tol=0.001, verbose=False)"
            ]
          },
          "metadata": {
            "tags": []
          },
          "execution_count": 17
        }
      ]
    },
    {
      "cell_type": "code",
      "metadata": {
        "id": "UyaWu2dUlPY_"
      },
      "source": [
        "y_predict=svc_model.predict(test_img)"
      ],
      "execution_count": null,
      "outputs": []
    },
    {
      "cell_type": "code",
      "metadata": {
        "id": "QjgYxgGxlX4O"
      },
      "source": [
        "from sklearn import metrics"
      ],
      "execution_count": null,
      "outputs": []
    },
    {
      "cell_type": "code",
      "metadata": {
        "id": "ZPP9nPmwldW6"
      },
      "source": [
        "d=svc_model.score(test_img,test_lbl)"
      ],
      "execution_count": null,
      "outputs": []
    },
    {
      "cell_type": "code",
      "metadata": {
        "id": "GHxxmV8eldhJ",
        "outputId": "7463103d-099a-4e70-e64d-abfc3e716c1b",
        "colab": {
          "base_uri": "https://localhost:8080/",
          "height": 35
        }
      },
      "source": [
        "print(d*100)"
      ],
      "execution_count": null,
      "outputs": [
        {
          "output_type": "stream",
          "text": [
            "94.72\n"
          ],
          "name": "stdout"
        }
      ]
    },
    {
      "cell_type": "code",
      "metadata": {
        "id": "r0DWw9ftldkH"
      },
      "source": [
        "t=svc_model.score(train_img,train_lbl)"
      ],
      "execution_count": null,
      "outputs": []
    },
    {
      "cell_type": "code",
      "metadata": {
        "id": "fakRRC6vldn3",
        "outputId": "55bd8cca-12a7-4c38-bcbb-8afbbdd99d73",
        "colab": {
          "base_uri": "https://localhost:8080/"
        }
      },
      "source": [
        "print(t*100)"
      ],
      "execution_count": null,
      "outputs": [
        {
          "output_type": "stream",
          "text": [
            "99.22999999999999\n"
          ],
          "name": "stdout"
        }
      ]
    }
  ]
}